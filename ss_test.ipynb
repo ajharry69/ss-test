{
 "cells": [
  {
   "cell_type": "markdown",
   "id": "11b305de2754dcf1",
   "metadata": {},
   "source": [
    "# The task is as follows\n",
    "## Part 1\n",
    "- Create a Python script that will get 1000 or more random users from https://random-data-api.com/documentation (Users) in json format.\n",
    "- Save results about users in CSV file\n",
    "\n",
    "## Part 2\n",
    "- Read the CSV file you created in part one and load the data in the database of your choice.\n",
    "- Create a query/algorithm that will find the most common user properties, and return them as a result.\n",
    "- Create a query/algorithm that will find any similarities between users, that would suggest a \"strong\" or “weak (fuzzy)” connection between any 2 or more users IF that type of connection exists in the database.\n",
    "- Create visualization representation of results with Matplotlib."
   ]
  },
  {
   "cell_type": "code",
   "execution_count": 14,
   "id": "7a7d400d",
   "metadata": {},
   "outputs": [],
   "source": [
    "import logging\n",
    "import random\n",
    "import time\n",
    "from csv import DictWriter\n",
    "from pathlib import Path\n",
    "\n",
    "import duckdb\n",
    "import matplotlib.pyplot as plt\n",
    "import requests"
   ]
  },
  {
   "cell_type": "markdown",
   "id": "3e44ae9093392552",
   "metadata": {},
   "source": [
    "A few constants used in the succeeding sections."
   ]
  },
  {
   "cell_type": "code",
   "execution_count": 15,
   "id": "cf342e3c",
   "metadata": {},
   "outputs": [],
   "source": [
    "logger = logging.getLogger(\"ss_test\")\n",
    "BASE_DIR = Path('.').resolve()"
   ]
  },
  {
   "cell_type": "markdown",
   "id": "3540b315b4189a7c",
   "metadata": {},
   "source": [
    "Get 1000 or more random users from https://random-data-api.com/documentation in json format."
   ]
  },
  {
   "cell_type": "code",
   "execution_count": 16,
   "id": "2d40e933ecea0c74",
   "metadata": {},
   "outputs": [],
   "source": [
    "def get_users():\n",
    "    users_count, attempt = 0, 0\n",
    "    while users_count < random.randint(1_500, 2_500):\n",
    "        size = random.randint(50, 100)\n",
    "        try:\n",
    "            response = requests.get(url=f\"https://random-data-api.com/api/v2/users?size={size}\")\n",
    "            response.raise_for_status()\n",
    "        except requests.exceptions.RequestException as e:\n",
    "            if attempt > 4:\n",
    "                extra = {\"response\": e.response.text}\n",
    "                logger.exception(\"Failed to get users\", extra=extra)\n",
    "                raise Exception(\"Too many request failures\") from e\n",
    "            timeout = pow(2, attempt) * 3\n",
    "            logger.warning(\n",
    "                \"Users retrieval failed with %d status code. Retrying failed user retrieval in %s seconds...\",\n",
    "                e.response.status_code,\n",
    "                timeout,\n",
    "            )\n",
    "            time.sleep(timeout)\n",
    "            attempt += attempt\n",
    "        else:\n",
    "            attempt = 0\n",
    "            users = response.json()\n",
    "            users_count += len(users)\n",
    "            for user in users:\n",
    "                yield user"
   ]
  },
  {
   "cell_type": "markdown",
   "id": "f10e90ed019b8e51",
   "metadata": {},
   "source": [
    "Save users from API to a CSV file."
   ]
  },
  {
   "cell_type": "code",
   "execution_count": 17,
   "id": "93901cd1",
   "metadata": {},
   "outputs": [],
   "source": [
    "def save_users_to_csv(users):\n",
    "    field_names = [\n",
    "        \"id\",\n",
    "        \"uid\",\n",
    "        \"password\",\n",
    "        \"first_name\",\n",
    "        \"last_name\",\n",
    "        \"username\",\n",
    "        \"email\",\n",
    "        \"avatar\",\n",
    "        \"gender\",\n",
    "        \"phone_number\",\n",
    "        \"social_insurance_number\",\n",
    "        \"date_of_birth\",\n",
    "        # \"employment\",\n",
    "        # \"address\",\n",
    "        # \"credit_card\",\n",
    "        # \"subscription\",\n",
    "    ]\n",
    "    users_csv = BASE_DIR / \"ss_test_users.csv\"\n",
    "    with open(users_csv, mode=\"w\", encoding=\"utf-8\") as f:\n",
    "        writer = DictWriter(f, fieldnames=field_names)\n",
    "        writer.writeheader()\n",
    "\n",
    "        for user in users:\n",
    "            writer.writerow(\n",
    "                {\n",
    "                    \"id\": user[\"id\"],\n",
    "                    \"uid\": user[\"uid\"],\n",
    "                    \"password\": user[\"password\"],\n",
    "                    \"first_name\": user[\"first_name\"],\n",
    "                    \"last_name\": user[\"last_name\"],\n",
    "                    \"username\": user[\"username\"],\n",
    "                    \"email\": user[\"email\"],\n",
    "                    \"avatar\": user[\"avatar\"],\n",
    "                    \"gender\": user[\"gender\"],\n",
    "                    \"phone_number\": user[\"phone_number\"],\n",
    "                    \"social_insurance_number\": user[\"social_insurance_number\"],\n",
    "                    \"date_of_birth\": user[\"date_of_birth\"],\n",
    "                },\n",
    "            )\n",
    "    return users_csv"
   ]
  },
  {
   "cell_type": "code",
   "execution_count": null,
   "id": "81f63bed98307d33",
   "metadata": {},
   "outputs": [
    {
     "name": "stderr",
     "output_type": "stream",
     "text": [
      "Users retrieval failed with 429 status code. Retrying failed user retrieval in 3 seconds...\n",
      "Users retrieval failed with 429 status code. Retrying failed user retrieval in 3 seconds...\n",
      "Users retrieval failed with 429 status code. Retrying failed user retrieval in 3 seconds...\n",
      "Users retrieval failed with 429 status code. Retrying failed user retrieval in 3 seconds...\n",
      "Users retrieval failed with 429 status code. Retrying failed user retrieval in 3 seconds...\n",
      "Users retrieval failed with 429 status code. Retrying failed user retrieval in 3 seconds...\n",
      "Users retrieval failed with 429 status code. Retrying failed user retrieval in 3 seconds...\n",
      "Users retrieval failed with 429 status code. Retrying failed user retrieval in 3 seconds...\n"
     ]
    }
   ],
   "source": [
    "csv_file = save_users_to_csv(users=get_users())\n",
    "csv_file"
   ]
  },
  {
   "cell_type": "markdown",
   "id": "133e019bba1c5e00",
   "metadata": {},
   "source": [
    "## Load CSV data in a database\n",
    "\n",
    "We'll use DuckDb because it is optimised for Analytical queries, which is suitable for data science."
   ]
  },
  {
   "cell_type": "code",
   "execution_count": null,
   "id": "64a57ad14a507b42",
   "metadata": {},
   "outputs": [],
   "source": [
    "with duckdb.connect(database=BASE_DIR / \"ss_test.db\") as con:\n",
    "    con.sql(\"DROP TABLE IF EXISTS users;\")\n",
    "    con.read_csv(csv_file).to_table(table_name=\"users\")\n",
    "    con.sql(\"SHOW TABLES\").show()\n",
    "    data_frame = con.sql(\"SELECT COUNT(*) number_of_users FROM users;\").df()\n",
    "data_frame"
   ]
  },
  {
   "cell_type": "markdown",
   "id": "c4dfd1aee0209653",
   "metadata": {},
   "source": [
    "## Most common values by Gender"
   ]
  },
  {
   "cell_type": "code",
   "execution_count": null,
   "id": "cf21b76195e63c75",
   "metadata": {},
   "outputs": [],
   "source": [
    "query = \"\"\"SELECT gender, COUNT(*) AS count\n",
    "FROM users\n",
    "GROUP BY gender\n",
    "ORDER BY count DESC;\"\"\"\n",
    "\n",
    "with duckdb.connect() as con:\n",
    "    con.read_csv(csv_file).to_table(table_name=\"users\")\n",
    "    data_frame = con.sql(query=query).df()\n",
    "\n",
    "data_frame"
   ]
  },
  {
   "cell_type": "code",
   "execution_count": null,
   "id": "673454ab591accb2",
   "metadata": {},
   "outputs": [],
   "source": [
    "data_frame.plot.barh(\n",
    "    x=\"gender\",\n",
    "    y=\"count\",\n",
    "    rot=0,\n",
    "    figsize=(12, 8),\n",
    "    title=\"Most Common Values by Gender\",\n",
    "    legend=False,\n",
    "    width=0.8,\n",
    ")\n",
    "plt.tight_layout()\n",
    "plt.show()"
   ]
  },
  {
   "cell_type": "markdown",
   "id": "b4908a89fd84a2d5",
   "metadata": {},
   "source": [
    "## Most common values by Generation\n",
    "* **Greatest Generation:**\n",
    "    * Born: Roughly 1901-1927\n",
    "    * Characteristics: Grew up during the Great Depression and fought in World War II.\n",
    "\n",
    "* **Silent Generation:**\n",
    "    * Born: Roughly 1928-1945\n",
    "    * Characteristics: Grew up during a time of conformity and traditional values.\n",
    "\n",
    "* **Baby Boomers:**\n",
    "    * Born: Roughly 1946-1964\n",
    "    * Characteristics: Grew up during a period of social and cultural change, including the Civil Rights Movement and the Vietnam War.\n",
    "\n",
    "* **Generation X:**\n",
    "    * Born: Roughly 1965-1980\n",
    "    * Characteristics: Grew up during a time of economic uncertainty and technological change, including the rise of personal computers and the internet.\n",
    "\n",
    "* **Millennials (Generation Y):**\n",
    "    * Born: Roughly 1981-1996\n",
    "    * Characteristics: Grew up during a time of globalization and technological advancement, including the rise of social media and mobile devices.\n",
    "\n",
    "* **Generation Z (Gen Z or Zoomers):**\n",
    "    * Born: Roughly 1997-2012\n",
    "    * Characteristics: Grew up in a digital world, with constant access to information and technology.\n",
    "\n",
    "* **Generation Alpha:**\n",
    "    * Born: Roughly 2013-Present\n",
    "    * Characteristics: Growing up in a world of advanced technology, and are the children of millenials."
   ]
  },
  {
   "cell_type": "code",
   "execution_count": null,
   "id": "2504fa10db4b0567",
   "metadata": {},
   "outputs": [],
   "source": [
    "query = \"\"\"WITH user_birth_years AS (SELECT CAST(EXTRACT(YEAR FROM date_of_birth) AS INTEGER) AS birth_year\n",
    "                          FROM users)\n",
    "SELECT CASE\n",
    "           WHEN birth_year <= 1927 THEN 'Greatest'\n",
    "           WHEN birth_year >= 1928 AND birth_year <= 1945 THEN 'Silent'\n",
    "           WHEN birth_year >= 1946 AND birth_year <= 1964 THEN 'Baby Boomers'\n",
    "           WHEN birth_year >= 1965 AND birth_year <= 1980 THEN 'Gen X'\n",
    "           WHEN birth_year >= 1981 AND birth_year <= 1996 THEN 'Millennial (Gen Y)'\n",
    "           WHEN birth_year >= 1997 AND birth_year <= 2012 THEN 'Zoomers (Gen Z)'\n",
    "           WHEN birth_year >= 2013 THEN 'Gen Alpha'\n",
    "           ELSE 'Unknown'\n",
    "           END generation,\n",
    "       COUNT(*) AS count\n",
    "FROM user_birth_years\n",
    "GROUP BY generation\n",
    "ORDER BY count DESC;\"\"\"\n",
    "\n",
    "with duckdb.connect() as con:\n",
    "    con.read_csv(csv_file).to_table(table_name=\"users\")\n",
    "    data_frame = con.sql(query=query).df()\n",
    "\n",
    "data_frame"
   ]
  },
  {
   "cell_type": "code",
   "execution_count": null,
   "id": "962f3a5ed44a1278",
   "metadata": {},
   "outputs": [],
   "source": [
    "data_frame.plot.barh(\n",
    "    x=\"generation\",\n",
    "    y=\"count\",\n",
    "    rot=0,\n",
    "    figsize=(12, 8),\n",
    "    legend=False,\n",
    "    width=0.8,\n",
    ")\n",
    "plt.tight_layout()\n",
    "plt.show()"
   ]
  },
  {
   "cell_type": "markdown",
   "id": "4c0ffc22c44443a4",
   "metadata": {},
   "source": [
    "## Show strong connection\n",
    "Strong connection can be shown when for example, two users share the same phone numbers or email address."
   ]
  },
  {
   "cell_type": "markdown",
   "id": "a413a9b257123716",
   "metadata": {},
   "source": [
    "### Strong connection shown through shared phone numbers"
   ]
  },
  {
   "cell_type": "code",
   "execution_count": null,
   "id": "759870c6d3fce59c",
   "metadata": {},
   "outputs": [],
   "source": [
    "query = \"\"\"SELECT u1.social_insurance_number sin_u1, u2.social_insurance_number sin_u2\n",
    "FROM users AS u1, users AS u2\n",
    "WHERE u1.uid != u2.uid AND u1.phone_number = u2.phone_number;\"\"\"\n",
    "\n",
    "with duckdb.connect() as con:\n",
    "    con.read_csv(csv_file).to_table(table_name=\"users\")\n",
    "    data_frame = con.sql(query=query).df()\n",
    "\n",
    "data_frame"
   ]
  },
  {
   "cell_type": "markdown",
   "id": "777f30b5607bfaf2",
   "metadata": {},
   "source": [
    "### Strong connection shown through shared email address"
   ]
  },
  {
   "cell_type": "code",
   "execution_count": null,
   "id": "45047a0b33b403ba",
   "metadata": {},
   "outputs": [],
   "source": [
    "query = \"\"\"SELECT u1.social_insurance_number sin_u1, u2.social_insurance_number sin_u2\n",
    "FROM users AS u1, users AS u2\n",
    "WHERE u1.uid != u2.uid AND u1.email = u2.email;\"\"\"\n",
    "\n",
    "with duckdb.connect() as con:\n",
    "    con.read_csv(csv_file).to_table(table_name=\"users\")\n",
    "    data_frame = con.sql(query=query).df()\n",
    "\n",
    "data_frame"
   ]
  },
  {
   "cell_type": "markdown",
   "id": "7b7914f95f686859",
   "metadata": {},
   "source": [
    "## Show weak/fuzzy connection\n",
    "In the following section, we'll show a weak connection between two users if the first 3 characters in their names are same."
   ]
  },
  {
   "cell_type": "code",
   "execution_count": null,
   "id": "9bc73db978aebd34",
   "metadata": {},
   "outputs": [],
   "source": [
    "query = \"\"\"SELECT u1.social_insurance_number sin_u1, u2.social_insurance_number sin_u2\n",
    "FROM users AS u1, users AS u2\n",
    "WHERE u1.uid != u2.uid AND u1.first_name LIKE '%' || SUBSTR(u2.first_name, 1, 3) || '%';\"\"\"\n",
    "\n",
    "with duckdb.connect() as con:\n",
    "    con.read_csv(csv_file).to_table(table_name=\"users\")\n",
    "    data_frame = con.sql(query=query).df()\n",
    "\n",
    "data_frame"
   ]
  }
 ],
 "metadata": {
  "jupytext": {
   "cell_metadata_filter": "-all",
   "main_language": "python",
   "notebook_metadata_filter": "-all"
  },
  "kernelspec": {
   "display_name": "Python 3 (ipykernel)",
   "language": "python",
   "name": "python3"
  },
  "language_info": {
   "codemirror_mode": {
    "name": "ipython",
    "version": 3
   },
   "file_extension": ".py",
   "mimetype": "text/x-python",
   "name": "python",
   "nbconvert_exporter": "python",
   "pygments_lexer": "ipython3",
   "version": "3.12.3"
  }
 },
 "nbformat": 4,
 "nbformat_minor": 5
}
